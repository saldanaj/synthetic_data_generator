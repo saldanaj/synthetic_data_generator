{
 "cells": [
  {
   "cell_type": "code",
   "execution_count": 7,
   "metadata": {},
   "outputs": [],
   "source": [
    "from openai import OpenAI\n",
    "import os\n",
    "import re\n",
    "import numpy as np\n",
    "import pandas as pd\n",
    "from sklearn.cluster import KMeans\n",
    "import matplotlib.pyplot as plt\n",
    "import json\n",
    "import matplotlib\n",
    "from dotenv import load_dotenv\n",
    "\n",
    "# Load environment variables from .env file\n",
    "load_dotenv()\n",
    "\n",
    "# Access the API key\n",
    "client = OpenAI(api_key=os.getenv('OPENAI_API_KEY'))"
   ]
  },
  {
   "cell_type": "code",
   "execution_count": 8,
   "metadata": {},
   "outputs": [],
   "source": [
    "question = \"\"\"\n",
    "Create a Python program to generate 100 rows of housing data.\n",
    "I want you to at the end of it output a pandas dataframe with 100 rows of data.\n",
    "Each row should include the following fields:\n",
    " - id (incrementing integer starting at 1)\n",
    " - house size (m^2)\n",
    " - house price\n",
    " - location\n",
    " - number of bedrooms\n",
    "\n",
    "Make sure that the numbers make sense (i.e. more rooms is usually bigger size, more expensive locations increase price. more size is usually higher price etc. make sure all the numbers make sense).\n",
    "\"\"\""
   ]
  },
  {
   "cell_type": "code",
   "execution_count": 9,
   "metadata": {},
   "outputs": [],
   "source": [
    "datagen_model = \"gpt-4o-mini\""
   ]
  },
  {
   "cell_type": "code",
   "execution_count": 10,
   "metadata": {},
   "outputs": [
    {
     "name": "stdout",
     "output_type": "stream",
     "text": [
      "Certainly! Below is a Python program that generates synthetic housing data following your specifications. It uses the `pandas` library to create a DataFrame with 100 rows of data that includes the specified fields. The house sizes, prices, locations, and number of bedrooms are generated in such a way that they logically relate to one another.\n",
      "\n",
      "```python\n",
      "import pandas as pd\n",
      "import random\n",
      "\n",
      "def generate_housing_data(num_rows):\n",
      "    data = []\n",
      "    \n",
      "    # Define parameters for the data generation\n",
      "    locations = ['Downtown', 'Suburb', 'Countryside']\n",
      "    \n",
      "    for i in range(1, num_rows + 1):\n",
      "        # Randomly choose location and determine price and size based on location\n",
      "        location = random.choice(locations)\n",
      "        if location == 'Downtown':\n",
      "            house_size = random.randint(50, 120)  # Small to medium size\n",
      "            price_per_m2 = random.randint(4000, 8000)  # High price per square meter\n",
      "        elif location == 'Suburb':\n",
      "            house_size = random.randint(80, 200)  # Medium to larger size\n",
      "            price_per_m2 = random.randint(2000, 4000)  # Moderate price per square meter\n",
      "        else:  # Countryside\n",
      "            house_size = random.randint(100, 300)  # Larger size\n",
      "            price_per_m2 = random.randint(1000, 2000)  # Low price per square meter\n",
      "        \n",
      "        # Calculate house price\n",
      "        house_price = house_size * price_per_m2\n",
      "        \n",
      "        # Generate a number of bedrooms based on house size\n",
      "        if house_size < 70:\n",
      "            num_bedrooms = random.randint(1, 2)\n",
      "        elif house_size < 150:\n",
      "            num_bedrooms = random.randint(2, 4)\n",
      "        else:\n",
      "            num_bedrooms = random.randint(3, 6)\n",
      "        \n",
      "        # Append generated data to the list\n",
      "        data.append({\n",
      "            'id': i,\n",
      "            'house_size': house_size,\n",
      "            'house_price': house_price,\n",
      "            'location': location,\n",
      "            'number_of_bedrooms': num_bedrooms\n",
      "        })\n",
      "    \n",
      "    # Create a DataFrame from the data list\n",
      "    df = pd.DataFrame(data)\n",
      "    return df\n",
      "\n",
      "# Generate 100 rows of housing data\n",
      "housing_data_df = generate_housing_data(100)\n",
      "\n",
      "# Output the DataFrame\n",
      "print(housing_data_df)\n",
      "```\n",
      "\n",
      "### Explanation of the Code:\n",
      "- The program defines a function `generate_housing_data` that creates a specified number of rows (`num_rows`) of housing data.\n",
      "- It randomly selects a location from a predefined list. Each location has its range of house sizes and price per square meter.\n",
      "- Based on the selected location, the house size and price are generated in a sensible manner.\n",
      "- The number of bedrooms is determined based on the house size, maintaining realistic correlations between size and bedrooms.\n",
      "- Finally, the synthesized data is compiled into a DataFrame and printed out.\n",
      "\n",
      "To run this code, ensure you have the pandas library installed, which you can do using `pip install pandas`.\n"
     ]
    }
   ],
   "source": [
    "response = client.chat.completions.create(\n",
    "  model=datagen_model,\n",
    "  messages=[\n",
    "    {\"role\": \"system\", \"content\": \"You are a helpful assistant designed to generate synthetic data.\"},\n",
    "    {\"role\": \"user\", \"content\": question}\n",
    "  ]\n",
    ")\n",
    "res = response.choices[0].message.content\n",
    "print(res)"
   ]
  },
  {
   "cell_type": "code",
   "execution_count": null,
   "metadata": {},
   "outputs": [],
   "source": []
  }
 ],
 "metadata": {
  "kernelspec": {
   "display_name": "Python 3",
   "language": "python",
   "name": "python3"
  },
  "language_info": {
   "codemirror_mode": {
    "name": "ipython",
    "version": 3
   },
   "file_extension": ".py",
   "mimetype": "text/x-python",
   "name": "python",
   "nbconvert_exporter": "python",
   "pygments_lexer": "ipython3",
   "version": "3.12.1"
  }
 },
 "nbformat": 4,
 "nbformat_minor": 2
}
